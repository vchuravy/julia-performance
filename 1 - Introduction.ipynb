{
 "cells": [
  {
   "cell_type": "markdown",
   "metadata": {
    "slideshow": {
     "slide_type": "slide"
    }
   },
   "source": [
    "## Performance Engineering in Julia\n",
    "by Valentin Churavy\n",
    "\n",
    "JuliaLab, CSAIL, MIT\n",
    "\n",
    "Twitter/Github: @vchuravy\n",
    "\n",
    "![Logo](https://github.com/JuliaLang/julia-logo-graphics/raw/master/images/animated-logo.gif)\n",
    "\n"
   ]
  },
  {
   "cell_type": "markdown",
   "metadata": {
    "slideshow": {
     "slide_type": "slide"
    }
   },
   "source": [
    "# What is Julia?\n",
    "*Walks like Python, talks like Lips, runs like Fortran*\n",
    "- Modern high-level dynamic programming language\n",
    "- Engineered with performance in mind\n",
    "- n-based array access (but opinionated about 1-based)\n",
    "- Julia Manifesto: https://julialang.org/blog/2012/02/why-we-created-julia\n",
    "- Noteworthy differences: https://docs.julialang.org/en/latest/manual/noteworthy-differences/\n",
    "- The Julia promise: Within 2x of C at the ease of Python"
   ]
  },
  {
   "cell_type": "markdown",
   "metadata": {
    "slideshow": {
     "slide_type": "slide"
    }
   },
   "source": [
    "# Why Julia?\n",
    "\n",
    "*Come for the speed, stay for the productivity*\n",
    "\n",
    "- Elegant\n",
    "- Explorable & Understandable\n",
    "- No privileged types/code\n",
    "- No need to switch languages\n",
    "- Code that is close to the mathematics"
   ]
  },
  {
   "cell_type": "markdown",
   "metadata": {
    "slideshow": {
     "slide_type": "slide"
    }
   },
   "source": [
    "# What is the 2 language problem?\n",
    "\n",
    "- You start out proto-typing in one language (high-level, dynamic),\n",
    "- but performance forces you to switch to a different one (low-level, static).\n"
   ]
  },
  {
   "cell_type": "markdown",
   "metadata": {
    "slideshow": {
     "slide_type": "subslide"
    }
   },
   "source": [
    "- For **convinience** use a scripting language (Python, R, Matlab, ...)\n",
    "- but do all the **hard stuff** in a systems language (C, C++, Fortran)"
   ]
  },
  {
   "cell_type": "markdown",
   "metadata": {
    "slideshow": {
     "slide_type": "subslide"
    }
   },
   "source": [
    "Pragmatic for many applications, but has drawbacks\n",
    "- aren't the **hard parts** exactly where you need an **easier** language\n",
    "- creates a **social barrier** -- a wall between users and developers\n",
    "- **\"sandwich problem\"** -- layering of system & user code is expensive\n",
    "- **prohibits** full stack optimisations"
   ]
  },
  {
   "cell_type": "markdown",
   "metadata": {
    "slideshow": {
     "slide_type": "slide"
    }
   },
   "source": [
    "# Enter Julia:"
   ]
  },
  {
   "cell_type": "markdown",
   "metadata": {
    "slideshow": {
     "slide_type": "fragment"
    }
   },
   "source": [
    "- Most of the standard library is implemented **in Julia itself** \n",
    "- \"Users are developers\""
   ]
  },
  {
   "cell_type": "markdown",
   "metadata": {
    "slideshow": {
     "slide_type": "fragment"
    }
   },
   "source": [
    "- has a sophisticated type system\n",
    "- but it is not *necessary* to talk about types\n",
    "- has **multiple dispatch**: functions specialised on the types of their arguments"
   ]
  },
  {
   "cell_type": "markdown",
   "metadata": {
    "slideshow": {
     "slide_type": "subslide"
    }
   },
   "source": [
    "- has sophisticated **metaprogramming** (macros) for generating code programatically\n",
    "- allows the creation of domain-specific languages"
   ]
  },
  {
   "cell_type": "markdown",
   "metadata": {
    "slideshow": {
     "slide_type": "subslide"
    }
   },
   "source": [
    "Julia is:\n",
    "\n",
    "- open source & free\n",
    "- MIT license (allows commercial use)\n",
    "- developed by a worldwide community"
   ]
  },
  {
   "cell_type": "markdown",
   "metadata": {
    "slideshow": {
     "slide_type": "slide"
    }
   },
   "source": [
    "# Goals for today\n",
    "\n",
    "1. Introduction to the Julia Compiler\n",
    "2. Classical performance engineering in Julia\n",
    "   - Benchmarking\n",
    "   - Profiling\n",
    "     - New tools coming in 1.8\n",
    "3. Julia specific tooling\n",
    "   - Cthulhu & JET"
   ]
  },
  {
   "cell_type": "markdown",
   "metadata": {
    "slideshow": {
     "slide_type": "slide"
    }
   },
   "source": [
    "# Things we won't get to\n",
    "\n",
    "1. Low-level profiling using\n",
    "   - LinuxPerf.jl\n",
    "   - LIKWID.jl\n",
    "  \n",
    "2. Low-level code analysis\n",
    "   - MCAnalyzer.jl\n",
    "   - LLVM remarks\n",
    "\n",
    "3. GPU tooling"
   ]
  }
 ],
 "metadata": {
  "@webio": {
   "lastCommId": "1a8680e2c99445f18a4c32952c9e1592",
   "lastKernelId": "a3b6244e-6557-498b-9572-fc47968d588a"
  },
  "celltoolbar": "Slideshow",
  "kernelspec": {
   "display_name": "Julia 1.7.1",
   "language": "julia",
   "name": "julia-1.7"
  },
  "language_info": {
   "file_extension": ".jl",
   "mimetype": "application/julia",
   "name": "julia",
   "version": "1.7.1"
  },
  "rise": {
   "scroll": true,
   "theme": "Serif"
  }
 },
 "nbformat": 4,
 "nbformat_minor": 4
}
