{
 "cells": [
  {
   "cell_type": "markdown",
   "id": "78b465cb",
   "metadata": {},
   "source": [
    "# Profiling on the `icemodel` as an example\n",
    "\n"
   ]
  },
  {
   "cell_type": "markdown",
   "id": "b5021311",
   "metadata": {},
   "source": [
    "## A note on environments\n",
    "\n",
    "Julia has the notion of \"stacked environments\", allowing for the seperation of development tools\n",
    "being used from the REPL and actual project dependencies.\n",
    "\n",
    "My `1.8` environment looks like:\n",
    "```\n",
    "Status `~/.julia/environments/v1.8/Project.toml`\n",
    "  [6e4b80f9] BenchmarkTools v1.2.2\n",
    "  [f68482b8] Cthulhu v2.4.5\n",
    "  [e4faabce] PProf v2.0.1\n",
    "  [295af30f] Revise v3.3.1\n",
    "  [9abbd945] Profile\n",
    "```"
   ]
  },
  {
   "cell_type": "markdown",
   "id": "fa70f7a0",
   "metadata": {},
   "source": [
    "```julia\n",
    "@time md = solve(md, \"Transient\")\n",
    "\n",
    "# First run\n",
    "29.688897 seconds (429.20 M allocations: 23.641 GiB, 11.78% gc time, 2.07% compilation time)\n",
    "\n",
    "# Second run\n",
    "28.472670 seconds (428.59 M allocations: 23.737 GiB, 9.37% gc time)\n",
    "```"
   ]
  },
  {
   "cell_type": "markdown",
   "id": "ef9c2580",
   "metadata": {},
   "source": [
    "### Profiling steps\n",
    "\n",
    "1. Have a good test-case that where you can tune the time spent\n",
    "2. Make sure that the code has been compiled first, note the `compilation time` included in the first run.\n",
    "3. `using Profile; @profile` for a first intuition where time is spent\n",
    "4. Export / Visualizing"
   ]
  },
  {
   "cell_type": "markdown",
   "id": "ab33f5b8",
   "metadata": {},
   "source": [
    "### Export\n",
    "\n",
    "#### Profile.jl\n",
    "\n",
    "```julia\n",
    "data, lidict = Profile.retrieve()\n",
    "# then write to disc using your favourite tool...\n",
    "```\n",
    "\n",
    "or\n",
    "\n",
    "```julia\n",
    "import ProfileView\n",
    "ProfileView.view() # then save button\n",
    "```\n",
    "\n",
    "and to load the data later use the \"open button\"\n",
    "\n",
    "#### PProf\n",
    "\n",
    "```julia\n",
    "using PProf\n",
    "pprof(; out=\"initial-profile.pb.gz\", web=false)\n",
    "```\n",
    "\n",
    "Loading the data later:\n",
    "\n",
    "```julia\n",
    "using PProf\n",
    "PProf.refresh(file=\"initial-profile.pb.gz\")\n",
    "```"
   ]
  },
  {
   "cell_type": "markdown",
   "id": "49ffa76a",
   "metadata": {},
   "source": [
    "A note on ProfileView colours:\n",
    "\n",
    "> It is also worth noting that red is (by default) a special color: it is reserved for function calls that have to be resolved at run-time. Because run-time dispatch (aka, dynamic dispatch, run-time method lookup, or a virtual call) often has a significant impact on performance,"
   ]
  },
  {
   "cell_type": "markdown",
   "id": "2e1604ce",
   "metadata": {},
   "source": [
    "### Task\n",
    "\n",
    "Open the profile up in both `PProf` and `ProfileView` and inspect it.\n",
    "Note the difference that `PProf` by default includes `C` frames whereas `ProfileView` hides them.\n",
    "\n",
    "This is a preference, both can show `C` frames and both can hide them.\n",
    "\n",
    "On flamegraphs: https://www.brendangregg.com/flamegraphs.html"
   ]
  },
  {
   "cell_type": "markdown",
   "id": "52ac8e52",
   "metadata": {},
   "source": [
    "## Coming in 1.8\n",
    "\n",
    "1. Thread information (e.g. on which Julia worker thread is code running)\n",
    "2. Allocation information\n",
    "\n"
   ]
  },
  {
   "cell_type": "markdown",
   "id": "780aaf9f",
   "metadata": {},
   "source": [
    "### Allocation profiler\n",
    "\n",
    "Requires:\n",
    "- Julia 1.8-dev\n",
    "- PProf#nhd-profile-allocs\n",
    "\n",
    "```\n",
    "Profile.Allocs.@profile md = solve(md, \"Transient\")\n",
    "PProf.Allocs.to_pprof(Profile.Allocs.fetch(); web = false, out=\"initial-alloc-profile.pb.gz\")\n",
    "```\n",
    "\n",
    "We can visualize it without being on that branch\n",
    "\n",
    "```\n",
    "    ┌ Warning: The allocation profiler is not fully implemented, and missed approximately 37% (estimated 15865 / 42859) of sampled allocs in the last run. For more info see https://github.com/JuliaLang/julia/issues/43688\n",
    "    └ @ Profile.Allocs ~/builds/julia/usr/share/julia/stdlib/v1.8/Profile/src/Allocs.jl:128\n",
    "```\n",
    "\n",
    "\n",
    "Additionally the Alloc profile is sub-sampling allocations to keep overheads managable:\n",
    "```\n",
    "Profile.Allocs.@profile sample_rate=1.0 md = solve(md, \"Transient\")\n",
    "```\n",
    "\n",
    "Is real slow"
   ]
  },
  {
   "cell_type": "code",
   "execution_count": null,
   "id": "553d69bb",
   "metadata": {},
   "outputs": [],
   "source": []
  }
 ],
 "metadata": {
  "kernelspec": {
   "display_name": "Julia 1.7.1",
   "language": "julia",
   "name": "julia-1.7"
  },
  "language_info": {
   "file_extension": ".jl",
   "mimetype": "application/julia",
   "name": "julia",
   "version": "1.7.1"
  }
 },
 "nbformat": 4,
 "nbformat_minor": 5
}
