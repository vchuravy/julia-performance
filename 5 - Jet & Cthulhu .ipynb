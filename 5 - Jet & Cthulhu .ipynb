{
 "cells": [
  {
   "cell_type": "markdown",
   "id": "60a35563",
   "metadata": {},
   "source": [
    "# JET & Cthulhu\n",
    "\n",
    "Static analyzer tools for Julia -- they do not execute your program\n",
    "\n",
    "## JET\n",
    "\n",
    "For a full tutorial see https://www.youtube.com/watch?v=wXRMwJdEjX4\n",
    "\n",
    "```julia\n",
    "using JET\n",
    "@report_opt solve(md, \"Transient\")\n",
    "```\n",
    "\n",
    "## Cthulhu\n",
    "\n",
    "Interactive analyzer, making reflection easier.\n",
    "\n",
    "\n",
    "```julia\n",
    "using JET\n",
    "@descend solve(md, \"Transient\")\n",
    "```"
   ]
  },
  {
   "cell_type": "markdown",
   "id": "83f8afd8",
   "metadata": {},
   "source": [
    "Note for both starting at the highest level of your program is often not beneficial.\n",
    "\n",
    "## Strategy\n",
    "\n",
    "1. Use Profiling to indentify problem spots in your program\n",
    "2. Use either JET or Cthulhu to explore those hot-spots and make sure that the compiler has all the necessary information\n",
    "\n"
   ]
  },
  {
   "cell_type": "code",
   "execution_count": null,
   "id": "7b08868d",
   "metadata": {},
   "outputs": [],
   "source": []
  }
 ],
 "metadata": {
  "kernelspec": {
   "display_name": "Julia 1.7.1",
   "language": "julia",
   "name": "julia-1.7"
  },
  "language_info": {
   "file_extension": ".jl",
   "mimetype": "application/julia",
   "name": "julia",
   "version": "1.7.1"
  }
 },
 "nbformat": 4,
 "nbformat_minor": 5
}
